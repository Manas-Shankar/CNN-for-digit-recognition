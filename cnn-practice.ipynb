{
 "cells": [
  {
   "cell_type": "code",
   "execution_count": 1,
   "metadata": {
    "_cell_guid": "b1076dfc-b9ad-4769-8c92-a6c4dae69d19",
    "_uuid": "8f2839f25d086af736a60e9eeb907d3b93b6e0e5",
    "execution": {
     "iopub.execute_input": "2020-11-21T08:10:03.752360Z",
     "iopub.status.busy": "2020-11-21T08:10:03.751497Z",
     "iopub.status.idle": "2020-11-21T08:10:04.728570Z",
     "shell.execute_reply": "2020-11-21T08:10:04.727589Z"
    },
    "papermill": {
     "duration": 1.003628,
     "end_time": "2020-11-21T08:10:04.728759",
     "exception": false,
     "start_time": "2020-11-21T08:10:03.725131",
     "status": "completed"
    },
    "tags": []
   },
   "outputs": [
    {
     "name": "stdout",
     "output_type": "stream",
     "text": [
      "['sample_submission.csv', 'test.csv', 'train.csv']\n"
     ]
    }
   ],
   "source": [
    "# This Python 3 environment comes with many helpful analytics libraries installed\n",
    "# It is defined by the kaggle/python Docker image: https://github.com/kaggle/docker-python\n",
    "\n",
    "import numpy as np # linear algebra\n",
    "import pandas as pd # data processing, CSV file I/O (e.g. pd.read_csv)\n",
    "import seaborn as sns\n",
    "from matplotlib import pyplot as plt\n",
    "import warnings\n",
    "warnings.filterwarnings('ignore')\n",
    "\n",
    "import os\n",
    "print(os.listdir('../input/digit-recognizer-mnist/'))"
   ]
  },
  {
   "cell_type": "code",
   "execution_count": 2,
   "metadata": {
    "_cell_guid": "79c7e3d0-c299-4dcb-8224-4455121ee9b0",
    "_uuid": "d629ff2d2480ee46fbb7e2d37f6b5fab8052498a",
    "execution": {
     "iopub.execute_input": "2020-11-21T08:10:04.770599Z",
     "iopub.status.busy": "2020-11-21T08:10:04.769464Z",
     "iopub.status.idle": "2020-11-21T08:10:08.847094Z",
     "shell.execute_reply": "2020-11-21T08:10:08.847905Z"
    },
    "papermill": {
     "duration": 4.100995,
     "end_time": "2020-11-21T08:10:08.848088",
     "exception": false,
     "start_time": "2020-11-21T08:10:04.747093",
     "status": "completed"
    },
    "tags": []
   },
   "outputs": [
    {
     "name": "stdout",
     "output_type": "stream",
     "text": [
      "(42000, 785)\n"
     ]
    },
    {
     "data": {
      "text/html": [
       "<div>\n",
       "<style scoped>\n",
       "    .dataframe tbody tr th:only-of-type {\n",
       "        vertical-align: middle;\n",
       "    }\n",
       "\n",
       "    .dataframe tbody tr th {\n",
       "        vertical-align: top;\n",
       "    }\n",
       "\n",
       "    .dataframe thead th {\n",
       "        text-align: right;\n",
       "    }\n",
       "</style>\n",
       "<table border=\"1\" class=\"dataframe\">\n",
       "  <thead>\n",
       "    <tr style=\"text-align: right;\">\n",
       "      <th></th>\n",
       "      <th>label</th>\n",
       "      <th>pixel0</th>\n",
       "      <th>pixel1</th>\n",
       "      <th>pixel2</th>\n",
       "      <th>pixel3</th>\n",
       "      <th>pixel4</th>\n",
       "      <th>pixel5</th>\n",
       "      <th>pixel6</th>\n",
       "      <th>pixel7</th>\n",
       "      <th>pixel8</th>\n",
       "      <th>...</th>\n",
       "      <th>pixel774</th>\n",
       "      <th>pixel775</th>\n",
       "      <th>pixel776</th>\n",
       "      <th>pixel777</th>\n",
       "      <th>pixel778</th>\n",
       "      <th>pixel779</th>\n",
       "      <th>pixel780</th>\n",
       "      <th>pixel781</th>\n",
       "      <th>pixel782</th>\n",
       "      <th>pixel783</th>\n",
       "    </tr>\n",
       "  </thead>\n",
       "  <tbody>\n",
       "    <tr>\n",
       "      <th>0</th>\n",
       "      <td>1</td>\n",
       "      <td>0</td>\n",
       "      <td>0</td>\n",
       "      <td>0</td>\n",
       "      <td>0</td>\n",
       "      <td>0</td>\n",
       "      <td>0</td>\n",
       "      <td>0</td>\n",
       "      <td>0</td>\n",
       "      <td>0</td>\n",
       "      <td>...</td>\n",
       "      <td>0</td>\n",
       "      <td>0</td>\n",
       "      <td>0</td>\n",
       "      <td>0</td>\n",
       "      <td>0</td>\n",
       "      <td>0</td>\n",
       "      <td>0</td>\n",
       "      <td>0</td>\n",
       "      <td>0</td>\n",
       "      <td>0</td>\n",
       "    </tr>\n",
       "    <tr>\n",
       "      <th>1</th>\n",
       "      <td>0</td>\n",
       "      <td>0</td>\n",
       "      <td>0</td>\n",
       "      <td>0</td>\n",
       "      <td>0</td>\n",
       "      <td>0</td>\n",
       "      <td>0</td>\n",
       "      <td>0</td>\n",
       "      <td>0</td>\n",
       "      <td>0</td>\n",
       "      <td>...</td>\n",
       "      <td>0</td>\n",
       "      <td>0</td>\n",
       "      <td>0</td>\n",
       "      <td>0</td>\n",
       "      <td>0</td>\n",
       "      <td>0</td>\n",
       "      <td>0</td>\n",
       "      <td>0</td>\n",
       "      <td>0</td>\n",
       "      <td>0</td>\n",
       "    </tr>\n",
       "    <tr>\n",
       "      <th>2</th>\n",
       "      <td>1</td>\n",
       "      <td>0</td>\n",
       "      <td>0</td>\n",
       "      <td>0</td>\n",
       "      <td>0</td>\n",
       "      <td>0</td>\n",
       "      <td>0</td>\n",
       "      <td>0</td>\n",
       "      <td>0</td>\n",
       "      <td>0</td>\n",
       "      <td>...</td>\n",
       "      <td>0</td>\n",
       "      <td>0</td>\n",
       "      <td>0</td>\n",
       "      <td>0</td>\n",
       "      <td>0</td>\n",
       "      <td>0</td>\n",
       "      <td>0</td>\n",
       "      <td>0</td>\n",
       "      <td>0</td>\n",
       "      <td>0</td>\n",
       "    </tr>\n",
       "    <tr>\n",
       "      <th>3</th>\n",
       "      <td>4</td>\n",
       "      <td>0</td>\n",
       "      <td>0</td>\n",
       "      <td>0</td>\n",
       "      <td>0</td>\n",
       "      <td>0</td>\n",
       "      <td>0</td>\n",
       "      <td>0</td>\n",
       "      <td>0</td>\n",
       "      <td>0</td>\n",
       "      <td>...</td>\n",
       "      <td>0</td>\n",
       "      <td>0</td>\n",
       "      <td>0</td>\n",
       "      <td>0</td>\n",
       "      <td>0</td>\n",
       "      <td>0</td>\n",
       "      <td>0</td>\n",
       "      <td>0</td>\n",
       "      <td>0</td>\n",
       "      <td>0</td>\n",
       "    </tr>\n",
       "    <tr>\n",
       "      <th>4</th>\n",
       "      <td>0</td>\n",
       "      <td>0</td>\n",
       "      <td>0</td>\n",
       "      <td>0</td>\n",
       "      <td>0</td>\n",
       "      <td>0</td>\n",
       "      <td>0</td>\n",
       "      <td>0</td>\n",
       "      <td>0</td>\n",
       "      <td>0</td>\n",
       "      <td>...</td>\n",
       "      <td>0</td>\n",
       "      <td>0</td>\n",
       "      <td>0</td>\n",
       "      <td>0</td>\n",
       "      <td>0</td>\n",
       "      <td>0</td>\n",
       "      <td>0</td>\n",
       "      <td>0</td>\n",
       "      <td>0</td>\n",
       "      <td>0</td>\n",
       "    </tr>\n",
       "  </tbody>\n",
       "</table>\n",
       "<p>5 rows × 785 columns</p>\n",
       "</div>"
      ],
      "text/plain": [
       "   label  pixel0  pixel1  pixel2  pixel3  pixel4  pixel5  pixel6  pixel7  \\\n",
       "0      1       0       0       0       0       0       0       0       0   \n",
       "1      0       0       0       0       0       0       0       0       0   \n",
       "2      1       0       0       0       0       0       0       0       0   \n",
       "3      4       0       0       0       0       0       0       0       0   \n",
       "4      0       0       0       0       0       0       0       0       0   \n",
       "\n",
       "   pixel8  ...  pixel774  pixel775  pixel776  pixel777  pixel778  pixel779  \\\n",
       "0       0  ...         0         0         0         0         0         0   \n",
       "1       0  ...         0         0         0         0         0         0   \n",
       "2       0  ...         0         0         0         0         0         0   \n",
       "3       0  ...         0         0         0         0         0         0   \n",
       "4       0  ...         0         0         0         0         0         0   \n",
       "\n",
       "   pixel780  pixel781  pixel782  pixel783  \n",
       "0         0         0         0         0  \n",
       "1         0         0         0         0  \n",
       "2         0         0         0         0  \n",
       "3         0         0         0         0  \n",
       "4         0         0         0         0  \n",
       "\n",
       "[5 rows x 785 columns]"
      ]
     },
     "execution_count": 2,
     "metadata": {},
     "output_type": "execute_result"
    }
   ],
   "source": [
    "#read train set\n",
    "train = pd.read_csv('../input/digit-recognizer-mnist/train.csv')\n",
    "print(train.shape)\n",
    "train.head()"
   ]
  },
  {
   "cell_type": "code",
   "execution_count": 3,
   "metadata": {
    "execution": {
     "iopub.execute_input": "2020-11-21T08:10:08.892717Z",
     "iopub.status.busy": "2020-11-21T08:10:08.891644Z",
     "iopub.status.idle": "2020-11-21T08:10:11.180941Z",
     "shell.execute_reply": "2020-11-21T08:10:11.180157Z"
    },
    "papermill": {
     "duration": 2.314665,
     "end_time": "2020-11-21T08:10:11.181077",
     "exception": false,
     "start_time": "2020-11-21T08:10:08.866412",
     "status": "completed"
    },
    "tags": []
   },
   "outputs": [
    {
     "name": "stdout",
     "output_type": "stream",
     "text": [
      "(28000, 784)\n"
     ]
    },
    {
     "data": {
      "text/html": [
       "<div>\n",
       "<style scoped>\n",
       "    .dataframe tbody tr th:only-of-type {\n",
       "        vertical-align: middle;\n",
       "    }\n",
       "\n",
       "    .dataframe tbody tr th {\n",
       "        vertical-align: top;\n",
       "    }\n",
       "\n",
       "    .dataframe thead th {\n",
       "        text-align: right;\n",
       "    }\n",
       "</style>\n",
       "<table border=\"1\" class=\"dataframe\">\n",
       "  <thead>\n",
       "    <tr style=\"text-align: right;\">\n",
       "      <th></th>\n",
       "      <th>pixel0</th>\n",
       "      <th>pixel1</th>\n",
       "      <th>pixel2</th>\n",
       "      <th>pixel3</th>\n",
       "      <th>pixel4</th>\n",
       "      <th>pixel5</th>\n",
       "      <th>pixel6</th>\n",
       "      <th>pixel7</th>\n",
       "      <th>pixel8</th>\n",
       "      <th>pixel9</th>\n",
       "      <th>...</th>\n",
       "      <th>pixel774</th>\n",
       "      <th>pixel775</th>\n",
       "      <th>pixel776</th>\n",
       "      <th>pixel777</th>\n",
       "      <th>pixel778</th>\n",
       "      <th>pixel779</th>\n",
       "      <th>pixel780</th>\n",
       "      <th>pixel781</th>\n",
       "      <th>pixel782</th>\n",
       "      <th>pixel783</th>\n",
       "    </tr>\n",
       "  </thead>\n",
       "  <tbody>\n",
       "    <tr>\n",
       "      <th>0</th>\n",
       "      <td>0</td>\n",
       "      <td>0</td>\n",
       "      <td>0</td>\n",
       "      <td>0</td>\n",
       "      <td>0</td>\n",
       "      <td>0</td>\n",
       "      <td>0</td>\n",
       "      <td>0</td>\n",
       "      <td>0</td>\n",
       "      <td>0</td>\n",
       "      <td>...</td>\n",
       "      <td>0</td>\n",
       "      <td>0</td>\n",
       "      <td>0</td>\n",
       "      <td>0</td>\n",
       "      <td>0</td>\n",
       "      <td>0</td>\n",
       "      <td>0</td>\n",
       "      <td>0</td>\n",
       "      <td>0</td>\n",
       "      <td>0</td>\n",
       "    </tr>\n",
       "    <tr>\n",
       "      <th>1</th>\n",
       "      <td>0</td>\n",
       "      <td>0</td>\n",
       "      <td>0</td>\n",
       "      <td>0</td>\n",
       "      <td>0</td>\n",
       "      <td>0</td>\n",
       "      <td>0</td>\n",
       "      <td>0</td>\n",
       "      <td>0</td>\n",
       "      <td>0</td>\n",
       "      <td>...</td>\n",
       "      <td>0</td>\n",
       "      <td>0</td>\n",
       "      <td>0</td>\n",
       "      <td>0</td>\n",
       "      <td>0</td>\n",
       "      <td>0</td>\n",
       "      <td>0</td>\n",
       "      <td>0</td>\n",
       "      <td>0</td>\n",
       "      <td>0</td>\n",
       "    </tr>\n",
       "    <tr>\n",
       "      <th>2</th>\n",
       "      <td>0</td>\n",
       "      <td>0</td>\n",
       "      <td>0</td>\n",
       "      <td>0</td>\n",
       "      <td>0</td>\n",
       "      <td>0</td>\n",
       "      <td>0</td>\n",
       "      <td>0</td>\n",
       "      <td>0</td>\n",
       "      <td>0</td>\n",
       "      <td>...</td>\n",
       "      <td>0</td>\n",
       "      <td>0</td>\n",
       "      <td>0</td>\n",
       "      <td>0</td>\n",
       "      <td>0</td>\n",
       "      <td>0</td>\n",
       "      <td>0</td>\n",
       "      <td>0</td>\n",
       "      <td>0</td>\n",
       "      <td>0</td>\n",
       "    </tr>\n",
       "    <tr>\n",
       "      <th>3</th>\n",
       "      <td>0</td>\n",
       "      <td>0</td>\n",
       "      <td>0</td>\n",
       "      <td>0</td>\n",
       "      <td>0</td>\n",
       "      <td>0</td>\n",
       "      <td>0</td>\n",
       "      <td>0</td>\n",
       "      <td>0</td>\n",
       "      <td>0</td>\n",
       "      <td>...</td>\n",
       "      <td>0</td>\n",
       "      <td>0</td>\n",
       "      <td>0</td>\n",
       "      <td>0</td>\n",
       "      <td>0</td>\n",
       "      <td>0</td>\n",
       "      <td>0</td>\n",
       "      <td>0</td>\n",
       "      <td>0</td>\n",
       "      <td>0</td>\n",
       "    </tr>\n",
       "    <tr>\n",
       "      <th>4</th>\n",
       "      <td>0</td>\n",
       "      <td>0</td>\n",
       "      <td>0</td>\n",
       "      <td>0</td>\n",
       "      <td>0</td>\n",
       "      <td>0</td>\n",
       "      <td>0</td>\n",
       "      <td>0</td>\n",
       "      <td>0</td>\n",
       "      <td>0</td>\n",
       "      <td>...</td>\n",
       "      <td>0</td>\n",
       "      <td>0</td>\n",
       "      <td>0</td>\n",
       "      <td>0</td>\n",
       "      <td>0</td>\n",
       "      <td>0</td>\n",
       "      <td>0</td>\n",
       "      <td>0</td>\n",
       "      <td>0</td>\n",
       "      <td>0</td>\n",
       "    </tr>\n",
       "  </tbody>\n",
       "</table>\n",
       "<p>5 rows × 784 columns</p>\n",
       "</div>"
      ],
      "text/plain": [
       "   pixel0  pixel1  pixel2  pixel3  pixel4  pixel5  pixel6  pixel7  pixel8  \\\n",
       "0       0       0       0       0       0       0       0       0       0   \n",
       "1       0       0       0       0       0       0       0       0       0   \n",
       "2       0       0       0       0       0       0       0       0       0   \n",
       "3       0       0       0       0       0       0       0       0       0   \n",
       "4       0       0       0       0       0       0       0       0       0   \n",
       "\n",
       "   pixel9  ...  pixel774  pixel775  pixel776  pixel777  pixel778  pixel779  \\\n",
       "0       0  ...         0         0         0         0         0         0   \n",
       "1       0  ...         0         0         0         0         0         0   \n",
       "2       0  ...         0         0         0         0         0         0   \n",
       "3       0  ...         0         0         0         0         0         0   \n",
       "4       0  ...         0         0         0         0         0         0   \n",
       "\n",
       "   pixel780  pixel781  pixel782  pixel783  \n",
       "0         0         0         0         0  \n",
       "1         0         0         0         0  \n",
       "2         0         0         0         0  \n",
       "3         0         0         0         0  \n",
       "4         0         0         0         0  \n",
       "\n",
       "[5 rows x 784 columns]"
      ]
     },
     "execution_count": 3,
     "metadata": {},
     "output_type": "execute_result"
    }
   ],
   "source": [
    "#read test set\n",
    "test = pd.read_csv('../input/digit-recognizer-mnist/test.csv')\n",
    "print(test.shape)\n",
    "test.head()"
   ]
  },
  {
   "cell_type": "code",
   "execution_count": 4,
   "metadata": {
    "execution": {
     "iopub.execute_input": "2020-11-21T08:10:11.380184Z",
     "iopub.status.busy": "2020-11-21T08:10:11.379375Z",
     "iopub.status.idle": "2020-11-21T08:10:11.384074Z",
     "shell.execute_reply": "2020-11-21T08:10:11.383435Z"
    },
    "papermill": {
     "duration": 0.183388,
     "end_time": "2020-11-21T08:10:11.384207",
     "exception": false,
     "start_time": "2020-11-21T08:10:11.200819",
     "status": "completed"
    },
    "tags": []
   },
   "outputs": [
    {
     "name": "stdout",
     "output_type": "stream",
     "text": [
      "(42000, 784) (42000,)\n"
     ]
    }
   ],
   "source": [
    "# place column 'label' into Y_train\n",
    "Y_train = train['label']\n",
    "# drop 'label' from train for X_train\n",
    "X_train = train.drop(['label'],axis=1)\n",
    "print(X_train.shape, Y_train.shape)"
   ]
  },
  {
   "cell_type": "code",
   "execution_count": 5,
   "metadata": {
    "execution": {
     "iopub.execute_input": "2020-11-21T08:10:11.430061Z",
     "iopub.status.busy": "2020-11-21T08:10:11.429272Z",
     "iopub.status.idle": "2020-11-21T08:10:11.688957Z",
     "shell.execute_reply": "2020-11-21T08:10:11.688152Z"
    },
    "papermill": {
     "duration": 0.285609,
     "end_time": "2020-11-21T08:10:11.689088",
     "exception": false,
     "start_time": "2020-11-21T08:10:11.403479",
     "status": "completed"
    },
    "tags": []
   },
   "outputs": [
    {
     "name": "stdout",
     "output_type": "stream",
     "text": [
      "1    4684\n",
      "7    4401\n",
      "3    4351\n",
      "9    4188\n",
      "2    4177\n",
      "6    4137\n",
      "0    4132\n",
      "4    4072\n",
      "8    4063\n",
      "5    3795\n",
      "Name: label, dtype: int64\n",
      "Mean exmaples per class: 4200.0\n"
     ]
    },
    {
     "data": {
      "image/png": "[encoded data removed]",
      "text/plain": [
       "<Figure size 1080x504 with 1 Axes>"
      ]
     },
     "metadata": {
      "needs_background": "light"
     },
     "output_type": "display_data"
    }
   ],
   "source": [
    "# we visualize the number of examples in each class\n",
    "plt.figure(figsize=(15,7))\n",
    "print(Y_train.value_counts())\n",
    "sns.countplot(Y_train,palette='icefire')  \n",
    "print('Mean exmaples per class: {}'.format(Y_train.value_counts().mean()))"
   ]
  },
  {
   "cell_type": "code",
   "execution_count": 6,
   "metadata": {
    "execution": {
     "iopub.execute_input": "2020-11-21T08:10:11.754855Z",
     "iopub.status.busy": "2020-11-21T08:10:11.753717Z",
     "iopub.status.idle": "2020-11-21T08:10:11.867586Z",
     "shell.execute_reply": "2020-11-21T08:10:11.866819Z"
    },
    "papermill": {
     "duration": 0.157897,
     "end_time": "2020-11-21T08:10:11.867717",
     "exception": false,
     "start_time": "2020-11-21T08:10:11.709820",
     "status": "completed"
    },
    "tags": []
   },
   "outputs": [
    {
     "data": {
      "image/png": "[encoded data removed]",
      "text/plain": [
       "<Figure size 432x288 with 1 Axes>"
      ]
     },
     "metadata": {
      "needs_background": "light"
     },
     "output_type": "display_data"
    },
    {
     "data": {
      "image/png": "[encoded data removed]",
      "text/plain": [
       "<Figure size 432x288 with 1 Axes>"
      ]
     },
     "metadata": {
      "needs_background": "light"
     },
     "output_type": "display_data"
    }
   ],
   "source": [
    "idx = 5000\n",
    "idx1= 41000\n",
    "img = X_train.iloc[idx].values\n",
    "img = img.reshape((28,28))\n",
    "plt.imshow(img,cmap='gray')\n",
    "plt.title(train.iloc[idx,0])\n",
    "plt.axis('off')\n",
    "plt.show()\n",
    "img1 = X_train.iloc[idx1].values\n",
    "img1 = img1.reshape((28,28))\n",
    "plt.imshow(img1,cmap='gray')\n",
    "plt.title(train.iloc[idx1,0])\n",
    "plt.axis('off')\n",
    "plt.show()"
   ]
  },
  {
   "cell_type": "code",
   "execution_count": 7,
   "metadata": {
    "execution": {
     "iopub.execute_input": "2020-11-21T08:10:11.920674Z",
     "iopub.status.busy": "2020-11-21T08:10:11.919785Z",
     "iopub.status.idle": "2020-11-21T08:10:12.101675Z",
     "shell.execute_reply": "2020-11-21T08:10:12.102229Z"
    },
    "papermill": {
     "duration": 0.212543,
     "end_time": "2020-11-21T08:10:12.102423",
     "exception": false,
     "start_time": "2020-11-21T08:10:11.889880",
     "status": "completed"
    },
    "tags": []
   },
   "outputs": [
    {
     "name": "stdout",
     "output_type": "stream",
     "text": [
      "(42000, 784) (28000, 784)\n"
     ]
    }
   ],
   "source": [
    "# Normalize the data for faster computation\n",
    "X_train = X_train/255.0\n",
    "test = test/255.0\n",
    "print(X_train.shape, test.shape)"
   ]
  },
  {
   "cell_type": "code",
   "execution_count": 8,
   "metadata": {
    "execution": {
     "iopub.execute_input": "2020-11-21T08:10:12.158425Z",
     "iopub.status.busy": "2020-11-21T08:10:12.157384Z",
     "iopub.status.idle": "2020-11-21T08:10:12.162121Z",
     "shell.execute_reply": "2020-11-21T08:10:12.161485Z"
    },
    "papermill": {
     "duration": 0.034566,
     "end_time": "2020-11-21T08:10:12.162245",
     "exception": false,
     "start_time": "2020-11-21T08:10:12.127679",
     "status": "completed"
    },
    "tags": []
   },
   "outputs": [
    {
     "name": "stdout",
     "output_type": "stream",
     "text": [
      "(42000, 28, 28, 1) (28000, 28, 28, 1)\n"
     ]
    }
   ],
   "source": [
    "#reshape data into (28,28,1) 3D image matrices . Uses 1 channel since the image is in grayscale\n",
    "x_train_reshape = X_train.values.reshape(-1,28,28,1)\n",
    "test_reshape = test.values.reshape(-1,28,28,1)\n",
    "print(x_train_reshape.shape,test_reshape.shape)"
   ]
  },
  {
   "cell_type": "code",
   "execution_count": 9,
   "metadata": {
    "execution": {
     "iopub.execute_input": "2020-11-21T08:10:12.215759Z",
     "iopub.status.busy": "2020-11-21T08:10:12.214922Z",
     "iopub.status.idle": "2020-11-21T08:10:18.024836Z",
     "shell.execute_reply": "2020-11-21T08:10:18.025705Z"
    },
    "papermill": {
     "duration": 5.840171,
     "end_time": "2020-11-21T08:10:18.025942",
     "exception": false,
     "start_time": "2020-11-21T08:10:12.185771",
     "status": "completed"
    },
    "tags": []
   },
   "outputs": [
    {
     "name": "stdout",
     "output_type": "stream",
     "text": [
      "(42000, 10)\n"
     ]
    }
   ],
   "source": [
    "# one-hot encoding\n",
    "from keras.utils.np_utils import to_categorical\n",
    "Y_train = to_categorical(Y_train,num_classes=10)\n",
    "print(Y_train.shape)"
   ]
  },
  {
   "cell_type": "code",
   "execution_count": 10,
   "metadata": {
    "execution": {
     "iopub.execute_input": "2020-11-21T08:10:18.082411Z",
     "iopub.status.busy": "2020-11-21T08:10:18.081658Z",
     "iopub.status.idle": "2020-11-21T08:10:18.685022Z",
     "shell.execute_reply": "2020-11-21T08:10:18.684407Z"
    },
    "papermill": {
     "duration": 0.633825,
     "end_time": "2020-11-21T08:10:18.685158",
     "exception": false,
     "start_time": "2020-11-21T08:10:18.051333",
     "status": "completed"
    },
    "tags": []
   },
   "outputs": [
    {
     "name": "stdout",
     "output_type": "stream",
     "text": [
      "(37800, 28, 28, 1) (4200, 28, 28, 1) (37800, 10) (4200, 10)\n"
     ]
    }
   ],
   "source": [
    "# create train and validation sets\n",
    "from sklearn.model_selection import train_test_split\n",
    "x_train,x_val,y_train,y_val = train_test_split(x_train_reshape,Y_train,test_size=0.1,random_state=2)\n",
    "print(x_train.shape,x_val.shape,y_train.shape,y_val.shape)"
   ]
  },
  {
   "cell_type": "code",
   "execution_count": 11,
   "metadata": {
    "execution": {
     "iopub.execute_input": "2020-11-21T08:10:18.750806Z",
     "iopub.status.busy": "2020-11-21T08:10:18.749436Z",
     "iopub.status.idle": "2020-11-21T08:10:18.909693Z",
     "shell.execute_reply": "2020-11-21T08:10:18.908402Z"
    },
    "papermill": {
     "duration": 0.199546,
     "end_time": "2020-11-21T08:10:18.909897",
     "exception": false,
     "start_time": "2020-11-21T08:10:18.710351",
     "status": "completed"
    },
    "tags": []
   },
   "outputs": [
    {
     "data": {
      "image/png": "[encoded data removed]",
      "text/plain": [
       "<Figure size 432x288 with 1 Axes>"
      ]
     },
     "metadata": {
      "needs_background": "light"
     },
     "output_type": "display_data"
    }
   ],
   "source": [
    "plt.imshow(x_train[4000][:,:,0],cmap='gray')\n",
    "plt.show()"
   ]
  },
  {
   "cell_type": "code",
   "execution_count": 12,
   "metadata": {
    "execution": {
     "iopub.execute_input": "2020-11-21T08:10:18.995296Z",
     "iopub.status.busy": "2020-11-21T08:10:18.993838Z",
     "iopub.status.idle": "2020-11-21T08:10:19.209483Z",
     "shell.execute_reply": "2020-11-21T08:10:19.208767Z"
    },
    "papermill": {
     "duration": 0.262231,
     "end_time": "2020-11-21T08:10:19.209632",
     "exception": false,
     "start_time": "2020-11-21T08:10:18.947401",
     "status": "completed"
    },
    "tags": []
   },
   "outputs": [],
   "source": [
    "# define ConvNet with architecture :\n",
    "# conv -> maxPool -> dropout -> conv -> maxPool -> dropout -> flatten -> Dense -> dropout -> Dense(softmax output)\n",
    "from keras.utils.np_utils import to_categorical\n",
    "from keras.models import Sequential\n",
    "from keras import layers\n",
    "from keras.optimizers import RMSprop,Adam\n",
    "from keras.preprocessing.image import ImageDataGenerator\n",
    "\n",
    "model = Sequential(\n",
    "    [# convolutional layers\n",
    "     layers.Conv2D(filters=8,kernel_size=(5,5),activation='relu',padding='Same',input_shape=(28,28,1)),\n",
    "     layers.MaxPool2D(pool_size=(2,2)),\n",
    "     layers.Dropout(0.25),\n",
    "     layers.Conv2D(filters=16,kernel_size=(3,3),activation='relu',padding='Same'),\n",
    "     layers.MaxPool2D(pool_size=(2,2),strides=(2,2)),\n",
    "     layers.Dropout(0.25),\n",
    "     # fully connected layers\n",
    "     layers.Flatten(),\n",
    "     layers.Dense(256,activation='relu'),\n",
    "     layers.Dropout(0.5),\n",
    "     layers.Dense(10,activation='softmax')\n",
    "    ])"
   ]
  },
  {
   "cell_type": "code",
   "execution_count": 13,
   "metadata": {
    "execution": {
     "iopub.execute_input": "2020-11-21T08:10:19.268129Z",
     "iopub.status.busy": "2020-11-21T08:10:19.267078Z",
     "iopub.status.idle": "2020-11-21T08:10:19.270565Z",
     "shell.execute_reply": "2020-11-21T08:10:19.269821Z"
    },
    "papermill": {
     "duration": 0.034992,
     "end_time": "2020-11-21T08:10:19.270692",
     "exception": false,
     "start_time": "2020-11-21T08:10:19.235700",
     "status": "completed"
    },
    "tags": []
   },
   "outputs": [],
   "source": [
    "# Adam optimizer\n",
    "optimizer = Adam(learning_rate=0.001,beta_1=0.9,beta_2=0.999)"
   ]
  },
  {
   "cell_type": "code",
   "execution_count": 14,
   "metadata": {
    "execution": {
     "iopub.execute_input": "2020-11-21T08:10:19.335407Z",
     "iopub.status.busy": "2020-11-21T08:10:19.332474Z",
     "iopub.status.idle": "2020-11-21T08:10:19.343902Z",
     "shell.execute_reply": "2020-11-21T08:10:19.343214Z"
    },
    "papermill": {
     "duration": 0.047503,
     "end_time": "2020-11-21T08:10:19.344026",
     "exception": false,
     "start_time": "2020-11-21T08:10:19.296523",
     "status": "completed"
    },
    "tags": []
   },
   "outputs": [],
   "source": [
    "# compile the model\n",
    "# loss used is categorical crossentropy (for 10 classes), unlike binary crossentropy used in logistic regression\n",
    "model.compile(optimizer=optimizer,loss='categorical_crossentropy',metrics=['accuracy'])"
   ]
  },
  {
   "cell_type": "code",
   "execution_count": 15,
   "metadata": {
    "execution": {
     "iopub.execute_input": "2020-11-21T08:10:19.405012Z",
     "iopub.status.busy": "2020-11-21T08:10:19.404155Z",
     "iopub.status.idle": "2020-11-21T08:10:19.560944Z",
     "shell.execute_reply": "2020-11-21T08:10:19.560202Z"
    },
    "papermill": {
     "duration": 0.191152,
     "end_time": "2020-11-21T08:10:19.561090",
     "exception": false,
     "start_time": "2020-11-21T08:10:19.369938",
     "status": "completed"
    },
    "tags": []
   },
   "outputs": [
    {
     "name": "stdout",
     "output_type": "stream",
     "text": [
      "(4200, 10)\n"
     ]
    }
   ],
   "source": [
    "epochs = 10\n",
    "batch_size = 250\n",
    "# data augmentation to prevent overfitting\n",
    "datagen = ImageDataGenerator(\n",
    "        featurewise_center=False,  # set input mean to 0 over the dataset\n",
    "        samplewise_center=False,  # set each sample mean to 0\n",
    "        featurewise_std_normalization=False,  # divide inputs by std of the dataset\n",
    "        samplewise_std_normalization=False,  # divide each input by its std\n",
    "        zca_whitening=False,  # dimesion reduction\n",
    "        rotation_range=5,  # randomly rotate images in the range 5 degrees\n",
    "        zoom_range = 0.1, # Randomly zoom image 10%\n",
    "        width_shift_range=0.1,  # randomly shift images horizontally 10%\n",
    "        height_shift_range=0.1,  # randomly shift images vertically 10%\n",
    "        horizontal_flip=False,  # randomly flip images\n",
    "        vertical_flip=False)  # randomly flip images\n",
    "\n",
    "datagen.fit(x_train)\n",
    "print(y_val.shape)"
   ]
  },
  {
   "cell_type": "code",
   "execution_count": 16,
   "metadata": {
    "execution": {
     "iopub.execute_input": "2020-11-21T08:10:19.622188Z",
     "iopub.status.busy": "2020-11-21T08:10:19.621388Z",
     "iopub.status.idle": "2020-11-21T08:13:20.492883Z",
     "shell.execute_reply": "2020-11-21T08:13:20.491870Z"
    },
    "papermill": {
     "duration": 180.905241,
     "end_time": "2020-11-21T08:13:20.493085",
     "exception": false,
     "start_time": "2020-11-21T08:10:19.587844",
     "status": "completed"
    },
    "tags": []
   },
   "outputs": [
    {
     "name": "stdout",
     "output_type": "stream",
     "text": [
      "Epoch 1/10\n",
      "151/151 [==============================] - 17s 114ms/step - loss: 1.0868 - accuracy: 0.6370 - val_loss: 0.2205 - val_accuracy: 0.9457\n",
      "Epoch 2/10\n",
      "151/151 [==============================] - 18s 117ms/step - loss: 0.4283 - accuracy: 0.8632 - val_loss: 0.1498 - val_accuracy: 0.9564\n",
      "Epoch 3/10\n",
      "151/151 [==============================] - 18s 119ms/step - loss: 0.3162 - accuracy: 0.9024 - val_loss: 0.1123 - val_accuracy: 0.9664\n",
      "Epoch 4/10\n",
      "151/151 [==============================] - 18s 116ms/step - loss: 0.2661 - accuracy: 0.9156 - val_loss: 0.0909 - val_accuracy: 0.9731\n",
      "Epoch 5/10\n",
      "151/151 [==============================] - 17s 115ms/step - loss: 0.2359 - accuracy: 0.9268 - val_loss: 0.0800 - val_accuracy: 0.9769\n",
      "Epoch 6/10\n",
      "151/151 [==============================] - 18s 117ms/step - loss: 0.2118 - accuracy: 0.9332 - val_loss: 0.0804 - val_accuracy: 0.9745\n",
      "Epoch 7/10\n",
      "151/151 [==============================] - 20s 131ms/step - loss: 0.1935 - accuracy: 0.9395 - val_loss: 0.0661 - val_accuracy: 0.9810\n",
      "Epoch 8/10\n",
      "151/151 [==============================] - 18s 119ms/step - loss: 0.1781 - accuracy: 0.9436 - val_loss: 0.0634 - val_accuracy: 0.9788\n",
      "Epoch 9/10\n",
      "151/151 [==============================] - 17s 115ms/step - loss: 0.1699 - accuracy: 0.9483 - val_loss: 0.0532 - val_accuracy: 0.9843\n",
      "Epoch 10/10\n",
      "151/151 [==============================] - 18s 116ms/step - loss: 0.1640 - accuracy: 0.9486 - val_loss: 0.0514 - val_accuracy: 0.9843\n"
     ]
    }
   ],
   "source": [
    "# fit the model with data generator\n",
    "history = model.fit_generator(datagen.flow(x_train,y_train, batch_size=batch_size),\n",
    "                              epochs = epochs, validation_data = (x_val,y_val), steps_per_epoch=x_train.shape[0] // batch_size)"
   ]
  },
  {
   "cell_type": "code",
   "execution_count": 17,
   "metadata": {
    "execution": {
     "iopub.execute_input": "2020-11-21T08:13:21.779648Z",
     "iopub.status.busy": "2020-11-21T08:13:21.778059Z",
     "iopub.status.idle": "2020-11-21T08:13:21.961163Z",
     "shell.execute_reply": "2020-11-21T08:13:21.960377Z"
    },
    "papermill": {
     "duration": 0.832186,
     "end_time": "2020-11-21T08:13:21.961336",
     "exception": false,
     "start_time": "2020-11-21T08:13:21.129150",
     "status": "completed"
    },
    "tags": []
   },
   "outputs": [
    {
     "data": {
      "image/png": "[encoded data removed]",
      "text/plain": [
       "<Figure size 432x288 with 1 Axes>"
      ]
     },
     "metadata": {
      "needs_background": "light"
     },
     "output_type": "display_data"
    }
   ],
   "source": [
    "plt.plot(history.history['loss'],color='b',label='train_loss')\n",
    "plt.plot(history.history['val_loss'],color='r',label='val_loss')\n",
    "plt.title('Losses')\n",
    "plt.xlabel('number of epochs')\n",
    "plt.ylabel('Loss')\n",
    "plt.legend()\n",
    "plt.show()"
   ]
  },
  {
   "cell_type": "code",
   "execution_count": 18,
   "metadata": {
    "execution": {
     "iopub.execute_input": "2020-11-21T08:13:23.278858Z",
     "iopub.status.busy": "2020-11-21T08:13:23.274727Z",
     "iopub.status.idle": "2020-11-21T08:13:33.174182Z",
     "shell.execute_reply": "2020-11-21T08:13:33.173396Z"
    },
    "papermill": {
     "duration": 10.574537,
     "end_time": "2020-11-21T08:13:33.174344",
     "exception": false,
     "start_time": "2020-11-21T08:13:22.599807",
     "status": "completed"
    },
    "tags": []
   },
   "outputs": [
    {
     "data": {
      "image/png": "[encoded data removed]",
      "text/plain": [
       "<Figure size 432x288 with 1 Axes>"
      ]
     },
     "metadata": {
      "needs_background": "light"
     },
     "output_type": "display_data"
    },
    {
     "data": {
      "image/png": "[encoded data removed]",
      "text/plain": [
       "<Figure size 576x576 with 2 Axes>"
      ]
     },
     "metadata": {
      "needs_background": "light"
     },
     "output_type": "display_data"
    },
    {
     "name": "stdout",
     "output_type": "stream",
     "text": [
      "lowest training loss: 0.16400253772735596 \n",
      "lowest validation loss: 0.0513552688062191\n",
      "1182/1182 [==============================] - 7s 6ms/step - loss: 0.0457 - accuracy: 0.9856\n",
      "132/132 [==============================] - 1s 6ms/step - loss: 0.0514 - accuracy: 0.9843\n",
      "train accuracy : 0.9856349229812622\n",
      "validation accuracy : 0.9842857122421265\n"
     ]
    }
   ],
   "source": [
    "from sklearn.metrics import confusion_matrix\n",
    "\n",
    "historyDF = pd.DataFrame(history.history)\n",
    "historyDF.loc[:,['accuracy','val_accuracy']].plot()\n",
    "#evaluate on val set\n",
    "Y_pred = model.predict(x_val)\n",
    "Y_pred_classes = np.argmax(Y_pred,axis = 1)\n",
    "Y_true = np.argmax(y_val,axis=1)\n",
    "confusion_mtx = confusion_matrix(Y_true,Y_pred_classes)\n",
    "# plot heatmap to illustrate confusion matrix\n",
    "figure,axs = plt.subplots(figsize=(8,8))\n",
    "sns.heatmap(confusion_mtx,annot=True,fmt='.1f',cmap='Greens',linewidths=0.01,linecolor='green',ax=axs)\n",
    "plt.title('confusion matrix')\n",
    "plt.xlabel('predicted label')\n",
    "plt.ylabel('true label')\n",
    "plt.show()\n",
    "print('lowest training loss: {} \\nlowest validation loss: {}'.format(min(historyDF[:]['loss']),min(historyDF[:]['val_loss'])))\n",
    "results_train = model.evaluate(x_train,y_train)\n",
    "results_val = model.evaluate(x_val,y_val)\n",
    "print('train accuracy : {}'.format(results_train[1]))\n",
    "print('validation accuracy : {}'.format(results_val[1]))"
   ]
  },
  {
   "cell_type": "code",
   "execution_count": 19,
   "metadata": {
    "execution": {
     "iopub.execute_input": "2020-11-21T08:13:34.639905Z",
     "iopub.status.busy": "2020-11-21T08:13:34.638236Z",
     "iopub.status.idle": "2020-11-21T08:13:34.842210Z",
     "shell.execute_reply": "2020-11-21T08:13:34.841468Z"
    },
    "papermill": {
     "duration": 0.970989,
     "end_time": "2020-11-21T08:13:34.842353",
     "exception": false,
     "start_time": "2020-11-21T08:13:33.871364",
     "status": "completed"
    },
    "tags": []
   },
   "outputs": [
    {
     "name": "stdout",
     "output_type": "stream",
     "text": [
      "predicted number is : 4\n"
     ]
    },
    {
     "data": {
      "image/png": "[encoded data removed]",
      "text/plain": [
       "<Figure size 432x288 with 1 Axes>"
      ]
     },
     "metadata": {
      "needs_background": "light"
     },
     "output_type": "display_data"
    }
   ],
   "source": [
    "idx= 17468  # change index to make predictions on test set. index should be within 28000\n",
    "example = pd.Series.to_numpy(test.iloc[idx])\n",
    "plt.imshow(example.reshape(28,28),cmap='gray')\n",
    "example = example.reshape(1,28,28,1)\n",
    "prediction = model.predict(example)\n",
    "print('predicted number is :',np.argmax(prediction))"
   ]
  }
 ],
 "metadata": {
  "kernelspec": {
   "display_name": "Python 3",
   "language": "python",
   "name": "python3"
  },
  "language_info": {
   "codemirror_mode": {
    "name": "ipython",
    "version": 3
   },
   "file_extension": ".py",
   "mimetype": "text/x-python",
   "name": "python",
   "nbconvert_exporter": "python",
   "pygments_lexer": "ipython3",
   "version": "3.7.6"
  },
  "papermill": {
   "duration": 218.098071,
   "end_time": "2020-11-21T08:13:36.625998",
   "environment_variables": {},
   "exception": null,
   "input_path": "__notebook__.ipynb",
   "output_path": "__notebook__.ipynb",
   "parameters": {},
   "start_time": "2020-11-21T08:09:58.527927",
   "version": "2.1.0"
  }
 },
 "nbformat": 4,
 "nbformat_minor": 4
}
